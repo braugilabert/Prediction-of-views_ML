{
 "cells": [
  {
   "attachments": {},
   "cell_type": "markdown",
   "metadata": {},
   "source": [
    "# *EVALUACIÓN DEL MODELO GANADOR (Sobre el test)*"
   ]
  },
  {
   "cell_type": "code",
   "execution_count": 66,
   "metadata": {},
   "outputs": [],
   "source": [
    "import pandas as pd\n",
    "import numpy as np\n",
    "import pickle\n",
    "from sklearn import metrics\n",
    "from sklearn.metrics import mean_squared_error, mean_absolute_error, mean_squared_error, mean_absolute_percentage_error\n",
    "from sklearn.model_selection import train_test_split\n",
    "from sklearn.preprocessing import StandardScaler"
   ]
  },
  {
   "attachments": {},
   "cell_type": "markdown",
   "metadata": {},
   "source": [
    "CARGA DEL MODELO GANADOR"
   ]
  },
  {
   "cell_type": "code",
   "execution_count": 67,
   "metadata": {},
   "outputs": [],
   "source": [
    "with open('../models/modelo_XGB.pkl', 'rb') as f:\n",
    "    model = pickle.load(f)\n"
   ]
  },
  {
   "attachments": {},
   "cell_type": "markdown",
   "metadata": {},
   "source": [
    "CARGA DE TEST"
   ]
  },
  {
   "cell_type": "code",
   "execution_count": 68,
   "metadata": {},
   "outputs": [],
   "source": [
    "test = pd.read_csv('../data/test.csv')"
   ]
  },
  {
   "cell_type": "code",
   "execution_count": 69,
   "metadata": {},
   "outputs": [],
   "source": [
    "test = test.loc[test['Visualizaciones']<35000,:] #quito 2 outliers para ver que tal"
   ]
  },
  {
   "cell_type": "code",
   "execution_count": 70,
   "metadata": {},
   "outputs": [],
   "source": [
    "X = test.drop(columns=['Visualizaciones', 'Título del vídeo'])\n",
    "y = test['Visualizaciones']"
   ]
  },
  {
   "cell_type": "code",
   "execution_count": 71,
   "metadata": {},
   "outputs": [],
   "source": [
    "X_train, X_test, y_train, y_test = train_test_split(X, y, test_size=0.33, random_state=33, shuffle=True)"
   ]
  },
  {
   "attachments": {},
   "cell_type": "markdown",
   "metadata": {},
   "source": [
    "# **XGBRegressor**"
   ]
  },
  {
   "cell_type": "code",
   "execution_count": 72,
   "metadata": {},
   "outputs": [
    {
     "data": {
      "text/plain": [
       "array([ 837.23663 , 7975.385   ,  374.89624 ,  289.90842 , 7966.4033  ,\n",
       "        453.4251  ,  358.41345 ,  284.57864 , 1205.3224  , 1888.3975  ,\n",
       "         34.900265, 3278.3743  , 1918.7155  , 8265.298   , 4949.903   ,\n",
       "       4720.889   ,  268.80273 , 3187.1504  , 2696.1443  , 2148.136   ,\n",
       "       4922.6855  ,  322.898   , 1257.278   ,  368.2217  , 1100.6993  ,\n",
       "       1918.7155  ,  395.50784 , 3466.514   , 1017.172   ,  378.74075 ,\n",
       "       7966.4033  ,  310.32153 , 3460.2056  ,  185.267   , 3434.6907  ,\n",
       "       2696.1443  , 2108.1975  , 7966.4033  , 2638.863   , 3600.6912  ,\n",
       "       4899.1357  , 3347.0945  , 1864.3258  , 4939.6855  , 1148.7426  ,\n",
       "       6762.043   ,  471.33923 ,  268.80273 ,  370.3541  ,  395.50784 ,\n",
       "       1292.9119  , 1218.2661  , 3444.933   ,  370.3541  ], dtype=float32)"
      ]
     },
     "execution_count": 72,
     "metadata": {},
     "output_type": "execute_result"
    }
   ],
   "source": [
    "predicciones = model.predict(X_test)\n",
    "predicciones"
   ]
  },
  {
   "attachments": {},
   "cell_type": "markdown",
   "metadata": {},
   "source": [
    "# **Evaluación final**"
   ]
  },
  {
   "cell_type": "code",
   "execution_count": 73,
   "metadata": {},
   "outputs": [
    {
     "data": {
      "text/plain": [
       "-37.68941888022657"
      ]
     },
     "execution_count": 73,
     "metadata": {},
     "output_type": "execute_result"
    }
   ],
   "source": [
    "predicciones = model.predict(X_test)\n",
    "\n",
    "model.score(X_test, y_test) #revisar"
   ]
  },
  {
   "cell_type": "code",
   "execution_count": 74,
   "metadata": {},
   "outputs": [
    {
     "name": "stdout",
     "output_type": "stream",
     "text": [
      "Mean Squared Error: 9573261.67150526\n",
      "Mean Absolute Error: 9573261.67150526\n",
      "RMSE: 3094.0687890713193\n",
      "MAPE 22.75473750809411\n"
     ]
    }
   ],
   "source": [
    "mse = mean_squared_error(y_test,predicciones) #REVISAR\n",
    "mae = metrics.mean_absolute_error(y_test, predicciones)\n",
    "rmse = np.sqrt(metrics.mean_squared_error(y_test, predicciones))\n",
    "mape = mean_absolute_percentage_error(y_test, predicciones)\n",
    "\n",
    "print(\"Mean Squared Error:\", mse)\n",
    "print(\"Mean Absolute Error:\", mse)\n",
    "print(\"RMSE:\", rmse)\n",
    "print(\"MAPE\", mape)"
   ]
  }
 ],
 "metadata": {
  "kernelspec": {
   "display_name": "Python 3",
   "language": "python",
   "name": "python3"
  },
  "language_info": {
   "codemirror_mode": {
    "name": "ipython",
    "version": 3
   },
   "file_extension": ".py",
   "mimetype": "text/x-python",
   "name": "python",
   "nbconvert_exporter": "python",
   "pygments_lexer": "ipython3",
   "version": "3.11.4"
  },
  "orig_nbformat": 4
 },
 "nbformat": 4,
 "nbformat_minor": 2
}

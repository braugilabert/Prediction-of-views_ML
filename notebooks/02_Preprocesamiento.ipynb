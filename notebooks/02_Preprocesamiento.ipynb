{
 "cells": [
  {
   "attachments": {},
   "cell_type": "markdown",
   "metadata": {},
   "source": [
    "# PREPROCESAMIENTO"
   ]
  },
  {
   "attachments": {},
   "cell_type": "markdown",
   "metadata": {},
   "source": [
    "INDICACIÓN: El preprocesado para sacar la columna de 'Juego' lo tengo que hacer desde Google Sheets con la función de filtro y a mano, por que hay vídeos de mi canal cuyo juego no está mencionado en el título, por lo cual no puedo sacar por Jupiter Notebooks los diferentes juegos de cada una de las filas (de cada uno de los videos). A su vez, he añadido la columna SEO para poner en función de cada juego cuanto sacaría de provecho el video en funcion de la demanda y la competitividad, pero ni el primero ni este último son útiles por que no correlan."
   ]
  },
  {
   "cell_type": "code",
   "execution_count": null,
   "metadata": {},
   "outputs": [],
   "source": [
    "import numpy as np\n",
    "import pandas as pd\n",
    "import matplotlib.pyplot as plt\n",
    "import seaborn as sns\n",
    "import sklearn"
   ]
  },
  {
   "cell_type": "code",
   "execution_count": null,
   "metadata": {},
   "outputs": [],
   "source": [
    "data = pd.read_csv('../data/raw/dataset siralatriste.csv')\n",
    "data.head(1)"
   ]
  },
  {
   "attachments": {},
   "cell_type": "markdown",
   "metadata": {},
   "source": [
    "## SACAR LA MEDIA DE MIS VARIABLES EN FUNCIÓN DEL JUEGO"
   ]
  },
  {
   "cell_type": "code",
   "execution_count": null,
   "metadata": {},
   "outputs": [],
   "source": [
    "#para sacar la media de compartidos de cada uno de mis juegos \n",
    "data['Med Juego Compartido'] = data.groupby('Juego')['Compartido'].transform('mean')"
   ]
  },
  {
   "cell_type": "code",
   "execution_count": null,
   "metadata": {},
   "outputs": [],
   "source": [
    "#para sacar la media de comentarios de cada uno de mis juegos \n",
    "data['Med Juego Comentarios'] = data.groupby('Juego')['Comentarios'].transform('mean')"
   ]
  },
  {
   "cell_type": "code",
   "execution_count": null,
   "metadata": {},
   "outputs": [],
   "source": [
    "#para sacar la media del porcentaje de likes/dislikes de cada uno de mis juegos\n",
    "data['Med porcentaje likes/dislikes Juego'] = data.groupby('Juego')['Me gusta (vs. No me gusta) (%)'].transform('mean')"
   ]
  },
  {
   "cell_type": "code",
   "execution_count": null,
   "metadata": {},
   "outputs": [],
   "source": [
    "#para sacar la media de likes de cada uno de mis juegos\n",
    "data['Med Likes x juego'] = data.groupby('Juego')['Me gusta'].transform('mean')"
   ]
  },
  {
   "cell_type": "code",
   "execution_count": null,
   "metadata": {},
   "outputs": [],
   "source": [
    "#para sacar la media de tiempo (en horas) de visualizacion de cada uno de mis juegos\n",
    "data['Med Horas vistas Juego'] = data.groupby('Juego')['Tiempo de visualización (horas)'].transform('mean')"
   ]
  },
  {
   "cell_type": "code",
   "execution_count": null,
   "metadata": {},
   "outputs": [],
   "source": [
    "#para sacar la duracion media de (en minutos) de las visualizaciones hechas en cada uno de mis juegos\n",
    "data['Med Duracion de Visualizaciones Juego'] = data.groupby('Juego')['Duración media de las visualizaciones'].transform('mean')"
   ]
  },
  {
   "cell_type": "code",
   "execution_count": null,
   "metadata": {},
   "outputs": [],
   "source": [
    "#para sacar la media de impresiones para cada uno de mis juegos\n",
    "data['Med Impresiones Juego'] = data.groupby('Juego')['Impresiones'].transform('mean')"
   ]
  },
  {
   "cell_type": "code",
   "execution_count": null,
   "metadata": {},
   "outputs": [],
   "source": [
    "#para sacar la media de porcentaje de click de impresiones para cada uno de mis juegos\n",
    "data['Med porcentaje clicks Impresiones Juego'] = data.groupby('Juego')['Porcentaje de clics de las impresiones (%)'].transform('mean')"
   ]
  },
  {
   "cell_type": "code",
   "execution_count": null,
   "metadata": {},
   "outputs": [],
   "source": [
    "#para sacar la media de visualizaciones para cada uno de mis juegos\n",
    "data['Med Visualizaciones Juego'] = data.groupby('Juego')['Visualizaciones'].transform('mean')"
   ]
  },
  {
   "cell_type": "code",
   "execution_count": null,
   "metadata": {},
   "outputs": [],
   "source": [
    "#para sacar la media de suscriptores ganados en cada uno de los juegos\n",
    "data['Med Suscriptores Juego'] = data.groupby('Juego')['Suscriptores'].transform('mean')"
   ]
  },
  {
   "attachments": {},
   "cell_type": "markdown",
   "metadata": {},
   "source": [
    "SUSTITUIR LA VARIABLE JUEGO POR NUMEROS ENTEROS"
   ]
  },
  {
   "cell_type": "code",
   "execution_count": null,
   "metadata": {},
   "outputs": [],
   "source": [
    "from sklearn.preprocessing import LabelEncoder\n",
    "\n",
    "le = LabelEncoder()\n",
    "data['Juego_int'] = le.fit_transform(data['Juego'])\n",
    "data.head(2)"
   ]
  },
  {
   "attachments": {},
   "cell_type": "markdown",
   "metadata": {},
   "source": [
    "VARIABLES NUEVAS PARA CUANDO SALGA UNA PALABRA EN LOS STRINGS DE UNA COLUMNA SEA 1 Y CUANDO NO 0"
   ]
  },
  {
   "cell_type": "code",
   "execution_count": null,
   "metadata": {},
   "outputs": [],
   "source": [
    "data['Título_1'] = np.where(data['Título del vídeo'].str.contains(\"1\"), 1 , 0) #PARA CUANDO UNA COLUMNA CONTIENE CIERTA PALABRA\n",
    "#data[data['Título_1']==1]['Título del vídeo'].value_counts(normalize=True) #para contar dichos valores 1 o 0"
   ]
  },
  {
   "cell_type": "code",
   "execution_count": null,
   "metadata": {},
   "outputs": [],
   "source": [
    "data['Año'] = data['Fecha'].str.split().str[-1].astype('int') #para coger solo la última palabra y hacerlo numero entero\n",
    "#data.head(1)"
   ]
  },
  {
   "attachments": {},
   "cell_type": "markdown",
   "metadata": {},
   "source": [
    "DIVIDIR EL TIPO DE JUEGOS EN HISTORIA O NO Y PONERLE 1 ó 0"
   ]
  },
  {
   "cell_type": "code",
   "execution_count": null,
   "metadata": {},
   "outputs": [],
   "source": [
    "data['Historia'] = np.where(data['Juego'].str.contains('Rome 2 Total War|Empire Total War|Napoleón Total War|Imperivm 3|Europa Universalis 4|Medieval Total War 2|Naval Action', regex=True), 1 , 0) #PARA CUANDO UNA COLUMNA CONTIENE CIERTA PALABRA"
   ]
  },
  {
   "cell_type": "code",
   "execution_count": null,
   "metadata": {},
   "outputs": [],
   "source": [
    "#data[data['Historia']==1]['Juego'].value_counts(normalize=True) #para contar dichos valores 1 "
   ]
  },
  {
   "attachments": {},
   "cell_type": "markdown",
   "metadata": {},
   "source": [
    "DIVIDIR EL TIPO DE JUEGOS EN TOTAL WAR O NO"
   ]
  },
  {
   "cell_type": "code",
   "execution_count": null,
   "metadata": {},
   "outputs": [],
   "source": [
    "data['TW'] = np.where(data['Juego'].str.contains('Total War'), 1 , 0)\n",
    "\n",
    "#data[data['TW']==1]['Juego'].value_counts(normalize=True) #para contar dichos valores 1 "
   ]
  },
  {
   "attachments": {},
   "cell_type": "markdown",
   "metadata": {},
   "source": [
    "HABIENDO SACADO LOS AÑOS, VOY A SACAR LA MEDIA DE LAS VARIABLES QUE MÁS CORRELAN DE ESE AÑO COMO VARIABLE... SOLO SALE CON ALGO DE CORRELACIÓN LA DE VISULIZACIONES, ASÍ QUE ES LA ÚNICA QUE SE VE AQUÍ."
   ]
  },
  {
   "cell_type": "code",
   "execution_count": null,
   "metadata": {},
   "outputs": [],
   "source": [
    "\n",
    "data['Med Visualizaciones Año'] = data.groupby('Año')['Visualizaciones'].transform('mean')"
   ]
  },
  {
   "attachments": {},
   "cell_type": "markdown",
   "metadata": {},
   "source": [
    "[ME ESTUVO DANDO ERROR SI LO HACIA COMO LAS ANTERIORES] MEDIA DE CIERTAS VARIABLES POR VISUALIZACIÓN (AUNQUE ESTÉN CONDICIONADAS CON VISUALIZACIONES, CREO QUE SON DE LAS MEJORES VARIABLES)"
   ]
  },
  {
   "cell_type": "code",
   "execution_count": null,
   "metadata": {},
   "outputs": [],
   "source": [
    "data['Visualizaciones necesarias para suscribirse al canal'] = data['Visualizaciones'] / data['Suscriptores']"
   ]
  },
  {
   "cell_type": "code",
   "execution_count": null,
   "metadata": {},
   "outputs": [],
   "source": [
    "data['Visualizaciones necesarias para compartir el video'] = data['Visualizaciones'] / data['Compartido']"
   ]
  },
  {
   "cell_type": "code",
   "execution_count": null,
   "metadata": {},
   "outputs": [],
   "source": [
    "# PARA SUSTITUIR LOS inf de las últimas dos variables por 0\n",
    "data['Visualizaciones necesarias para suscribirse al canal'].replace([np.inf, -np.inf], 0, inplace=True)\n",
    "data['Visualizaciones necesarias para compartir el video'].replace([np.inf, -np.inf], 0, inplace=True)"
   ]
  },
  {
   "cell_type": "code",
   "execution_count": null,
   "metadata": {},
   "outputs": [],
   "source": [
    "data.head(40)"
   ]
  },
  {
   "attachments": {},
   "cell_type": "markdown",
   "metadata": {},
   "source": [
    "# REPRESENTACIÓN DE LAS CORRELACIONES"
   ]
  },
  {
   "cell_type": "code",
   "execution_count": null,
   "metadata": {},
   "outputs": [],
   "source": [
    "plt.figure(figsize= (14,14));\n",
    "sns.heatmap(data.corr().abs(), annot=True);"
   ]
  },
  {
   "cell_type": "code",
   "execution_count": null,
   "metadata": {},
   "outputs": [],
   "source": [
    "corr = data.corr().abs() #para sacarlo con valores absolutos"
   ]
  },
  {
   "cell_type": "code",
   "execution_count": null,
   "metadata": {},
   "outputs": [],
   "source": [
    "corr_visual = corr.loc[:,['Visualizaciones']] #para sacar las correlaciones de Visualizaciones\n",
    "corr_visual.sort_values(ascending=False, by = 'Visualizaciones')"
   ]
  },
  {
   "attachments": {},
   "cell_type": "markdown",
   "metadata": {},
   "source": [
    "# ELIMINAR COLUMNAS INSERVIBLES Y LAS QUE NO VAYAN A PREDECIR CON 'SINCERIDAD' EL FUTURO AUNQUE TENGAN GRAN CORRELACIÓN."
   ]
  },
  {
   "attachments": {},
   "cell_type": "markdown",
   "metadata": {},
   "source": [
    "ELIMINACIÓN DE VARIABLES QUE CORRELAN CON VISUALIZACIONES PERO NO SERÍAN FIELES TAN FIELES AL FUTURO"
   ]
  },
  {
   "cell_type": "code",
   "execution_count": null,
   "metadata": {},
   "outputs": [],
   "source": [
    "data.drop(columns=['Compartido', 'Tiempo de visualización (horas)', 'Suscriptores', 'Impresiones', 'Me gusta', 'Comentarios'], inplace=True)"
   ]
  },
  {
   "cell_type": "code",
   "execution_count": null,
   "metadata": {},
   "outputs": [],
   "source": [
    "#data.head(1)"
   ]
  },
  {
   "attachments": {},
   "cell_type": "markdown",
   "metadata": {},
   "source": [
    "ELIMINACIÓN DE VARIABLES QUE NO CORRELAN CON VISUALIZACIONES (incluidas las categóricas de Datos Duración media de las visualizaciones, Juego y Fecha)"
   ]
  },
  {
   "cell_type": "code",
   "execution_count": null,
   "metadata": {},
   "outputs": [],
   "source": [
    "data.drop(columns=['SEO', 'Año', 'Juego_int', 'Título_1', 'Med Duracion de Visualizaciones Juego', 'Me gusta (vs. No me gusta) (%)', 'Med Likes x juego', 'TW', 'Duración media de las visualizaciones', 'Med porcentaje likes/dislikes Juego', 'Historia', 'Med Juego Comentarios', 'Fecha', 'Juego', 'Datos Duración media de las visualizaciones'], inplace=True)"
   ]
  },
  {
   "cell_type": "code",
   "execution_count": null,
   "metadata": {},
   "outputs": [],
   "source": [
    "plt.figure(figsize= (12,12));\n",
    "sns.heatmap(data.corr().abs(), annot=True);"
   ]
  },
  {
   "cell_type": "code",
   "execution_count": null,
   "metadata": {},
   "outputs": [],
   "source": [
    "\"\"\" corr_visual2 = corr.loc[:,['Visualizaciones']] #para sacar las correlaciones restantes de Visualizaciones\n",
    "corr_visual2.sort_values(ascending=False, by = 'Visualizaciones') \"\"\""
   ]
  },
  {
   "cell_type": "code",
   "execution_count": null,
   "metadata": {},
   "outputs": [],
   "source": [
    "data.head(3)"
   ]
  },
  {
   "attachments": {},
   "cell_type": "markdown",
   "metadata": {},
   "source": [
    "# GUARDAR ARCHIVO PROCESADO."
   ]
  },
  {
   "cell_type": "code",
   "execution_count": null,
   "metadata": {},
   "outputs": [],
   "source": [
    "# para guardar el DataFrame como archivo CSV\n",
    "data.to_csv('../data/processed.csv', index=False)"
   ]
  }
 ],
 "metadata": {
  "kernelspec": {
   "display_name": "Python 3",
   "language": "python",
   "name": "python3"
  },
  "language_info": {
   "codemirror_mode": {
    "name": "ipython",
    "version": 3
   },
   "file_extension": ".py",
   "mimetype": "text/x-python",
   "name": "python",
   "nbconvert_exporter": "python",
   "pygments_lexer": "ipython3",
   "version": "3.11.4"
  },
  "orig_nbformat": 4
 },
 "nbformat": 4,
 "nbformat_minor": 2
}
